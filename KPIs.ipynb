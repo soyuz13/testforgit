{
  "nbformat": 4,
  "nbformat_minor": 0,
  "metadata": {
    "colab": {
      "name": "KPIs.ipynb",
      "provenance": [],
      "authorship_tag": "ABX9TyNKrPONSQouIAsqd4B43H0h",
      "include_colab_link": true
    },
    "kernelspec": {
      "name": "python3",
      "display_name": "Python 3"
    },
    "language_info": {
      "name": "python"
    }
  },
  "cells": [
    {
      "cell_type": "markdown",
      "metadata": {
        "id": "view-in-github",
        "colab_type": "text"
      },
      "source": [
        "<a href=\"https://colab.research.google.com/github/soyuz13/testforgit/blob/master/KPIs.ipynb\" target=\"_parent\"><img src=\"https://colab.research.google.com/assets/colab-badge.svg\" alt=\"Open In Colab\"/></a>"
      ]
    },
    {
      "cell_type": "code",
      "source": [
        "!pip3 install mysqlclient"
      ],
      "metadata": {
        "colab": {
          "base_uri": "https://localhost:8080/"
        },
        "id": "IhPOlbqqjm0g",
        "outputId": "00b1b71d-2ad4-4fc2-deea-75fe26c22938"
      },
      "execution_count": null,
      "outputs": [
        {
          "output_type": "stream",
          "name": "stdout",
          "text": [
            "Looking in indexes: https://pypi.org/simple, https://us-python.pkg.dev/colab-wheels/public/simple/\n",
            "Requirement already satisfied: mysqlclient in /usr/local/lib/python3.7/dist-packages (2.1.1)\n"
          ]
        }
      ]
    },
    {
      "cell_type": "code",
      "source": [
        "import datetime as dtime\n",
        "from dataclasses import dataclass\n",
        "from sqlalchemy import create_engine, MetaData, Table, Column, Integer, func\n",
        "from dateutil.relativedelta import relativedelta, SU, MO\n",
        "from urllib.parse import quote_plus as urlquote\n",
        "from sqlalchemy.orm import mapper, clear_mappers, sessionmaker\n",
        "from enum import Enum\n",
        "from kpi_config import DB_USER, DB_PASSWORD, DB_HOST, DB_PORT, DB_CHARSET, DB_NAME, DB_TYPE"
      ],
      "metadata": {
        "id": "UhcOxfqsL9Mg"
      },
      "execution_count": null,
      "outputs": []
    },
    {
      "cell_type": "code",
      "source": [
        "@dataclass\n",
        "class Period:\n",
        "  _today: dtime = dtime.datetime.now().date()\n",
        "  \n",
        "  @property\n",
        "  def current_day(self):\n",
        "    return self._today, self._today\n",
        "\n",
        "  @property\n",
        "  def current_week(self):\n",
        "    min_date = self._today + relativedelta(weeks=0, weekday=MO(-1))\n",
        "    max_date = self._today + relativedelta(weeks=0, weekday=SU(+1))\n",
        "    return min_date, max_date\n",
        "\n",
        "  @property\n",
        "  def current_month(self):\n",
        "    min_date = self._today + relativedelta(months=0, day=1)\n",
        "    max_date = self._today + relativedelta(months=0, day=31)\n",
        "    return min_date, max_date\n",
        "\n",
        "  @property\n",
        "  def current_year(self):\n",
        "    min_date = self._today + relativedelta(years=0, day=1)\n",
        "    max_date = self._today + relativedelta(years=0, day=366)\n",
        "    return min_date, max_date\n",
        "\n",
        "  @property\n",
        "  def previous_day(self):\n",
        "    return self._today + relativedelta(days=-1), self._today + relativedelta(days=-1)\n",
        "\n",
        "  @property\n",
        "  def previous_week(self):\n",
        "    min_date = self._today + relativedelta(weeks=-1, weekday=MO(-1))\n",
        "    max_date = self._today + relativedelta(weeks=-1, weekday=SU(+1))\n",
        "    return min_date, max_date\n",
        "\n",
        "  @property\n",
        "  def previous_month(self):\n",
        "    min_date = self._today + relativedelta(months=-1, day=1)\n",
        "    max_date = self._today + relativedelta(months=-1, day=31)\n",
        "    return min_date, max_date\n",
        "\n",
        "  @property\n",
        "  def previous_year(self):\n",
        "    min_date = self._today + relativedelta(years=-1, day=1)\n",
        "    max_date = self._today + relativedelta(years=-1, day=366)\n",
        "    return min_date, max_date\n",
        "\n",
        "  @property\n",
        "  def previous_week_p(self):\n",
        "    min_date = self._today + relativedelta(weeks=-1, weekday=MO(-1))\n",
        "    max_date = self._today + relativedelta(weeks=-1)\n",
        "    return min_date, max_date\n",
        "\n",
        "  @property\n",
        "  def previous_month_p(self):\n",
        "    min_date = self._today + relativedelta(months=-1, day=1)\n",
        "    max_date = self._today + relativedelta(months=-1)\n",
        "    return min_date, max_date\n",
        "\n",
        "  @property\n",
        "  def previous_year_p(self):\n",
        "    min_date = self._today + relativedelta(years=-1, day=1)\n",
        "    max_date = self._today + relativedelta(years=-1)\n",
        "    return min_date, max_date\n",
        "\n",
        "  def any_week(self, date: dtime.datetime):\n",
        "    min_date = date + relativedelta(weekday=MO(-1))\n",
        "    max_date = date + relativedelta(weekday=SU(+1))\n",
        "    return min_date, max_date\n",
        "\n",
        "  def any_year(self, date: dtime.datetime):\n",
        "    min_date = date + relativedelta(years=0, month=1, day=1)\n",
        "    max_date = date + relativedelta(years=0, month=12, day=31)\n",
        "    return min_date, max_date\n",
        "\n",
        "  def any_month(self, date: dtime.datetime):\n",
        "    min_date = date + relativedelta(months=0, day=1)\n",
        "    max_date = date + relativedelta(months=0, day=31)\n",
        "    return min_date, max_date\n"
      ],
      "metadata": {
        "id": "QtKPm9ByTlDg"
      },
      "execution_count": null,
      "outputs": []
    },
    {
      "cell_type": "code",
      "source": [
        "class KPI:\n",
        "  class R:\n",
        "    pass\n",
        "\n",
        "  class D:\n",
        "    pass\n",
        "\n",
        "  def __init__(self, data_connection):\n",
        "    engine, self.session = data_connection\n",
        "    # user, password, host, port = 'discount', 'Vl@zer52@7$', '95.154.87.128', '33306'\n",
        "    # engine = create_engine(f'mysql://{user}:{urlquote(password)}@{host}:{port}/vlazer?charset=utf8', echo=True)\n",
        "    # Session = sessionmaker(bind = engine)\n",
        "    # self.session = Session()\n",
        "    rawsales = Table('rawsales', MetaData(), Column(\"key\", Integer, primary_key=True), autoload_with=engine)\n",
        "    discountsales = Table('discountsales', MetaData(), Column(\"key\", Integer, primary_key=True), autoload_with=engine)\n",
        "    clear_mappers()\n",
        "    mapper(self.R, rawsales, primary_key=[rawsales.c.key])\n",
        "    mapper(self.D, discountsales, primary_key=[discountsales.c.key])\n",
        "    pass\n",
        "\n",
        "  @staticmethod\n",
        "  def _check_result(query_result):\n",
        "    query_result = query_result if query_result else 0\n",
        "    return query_result\n",
        "\n",
        "  def revenue(self, period: Period) -> float:\n",
        "    res = self.session.query(\n",
        "    func.sum(self.R.sum)\n",
        "    ).filter(\n",
        "        self.R.date>=period[0], \n",
        "        self.R.date<=period[1]\n",
        "        )\n",
        "    return round(self._check_result(res.first()[0]), 2)\n",
        "\n",
        "  def checks(self, period: Period) -> float:\n",
        "    res = self.session.query(\n",
        "    func.count(func.distinct(self.R.sale_id))\n",
        "    ).filter(\n",
        "        self.R.date>=period[0], \n",
        "        self.R.date<=period[1]\n",
        "        )\n",
        "    return self._check_result(res.first()[0])\n",
        "\n",
        "  def revenue_returnes(self, period: Period) -> float:\n",
        "    res = self.session.query(\n",
        "    func.sum(self.R.sum)\n",
        "    ).filter(\n",
        "        self.R.date>=period[0], \n",
        "        self.R.date<=period[1],\n",
        "        self.R.field0==3\n",
        "    )\n",
        "    return -round(self._check_result(res.first()[0]), 2)\n",
        "\n",
        "  def cheks_returnes(self, period: Period) -> float:\n",
        "    res = self.session.query(\n",
        "    func.count(func.distinct(self.R.sale_id))\n",
        "    ).filter(\n",
        "        self.R.date>=period[0], \n",
        "        self.R.date<=period[1],\n",
        "        self.R.field0==3\n",
        "    )\n",
        "    return self._check_result(res.first()[0])\n",
        "\n",
        "  def revenue_discount(self, period: Period) -> float:\n",
        "    res = self.session.query(\n",
        "    func.sum(self.D.fullsum)\n",
        "    ).filter(\n",
        "        self.D.date>=period[0], \n",
        "        self.D.date<=period[1]\n",
        "    )\n",
        "    return round(self._check_result(res.first()[0]), 2)\n",
        "\n",
        "  def checks_discount(self, period: Period) -> float:\n",
        "    res = self.session.query(\n",
        "    func.count(func.distinct(self.D.sale_id))\n",
        "    ).filter(\n",
        "        self.D.date>=period[0], \n",
        "        self.D.date<=period[1]\n",
        "        )\n",
        "    return self._check_result(res.first()[0])\n",
        "\n",
        "  def revenue_coffee(self, period: Period) -> float:\n",
        "    goods = 'КР'\n",
        "    res = self.session.query(\n",
        "    func.sum(self.R.sum)\n",
        "    ).filter(\n",
        "        self.R.date>=period[0], \n",
        "        self.R.date<=period[1],\n",
        "        self.R.goods.like(f'{goods}%')\n",
        "        )\n",
        "    return round(self._check_result(res.first()[0]), 2)\n",
        "\n",
        "  def revenue_tea(self, period: Period) -> float:\n",
        "    goods = 'ЧР'\n",
        "    res = self.session.query(\n",
        "    func.sum(self.R.sum)\n",
        "    ).filter(\n",
        "        self.R.date>=period[0], \n",
        "        self.R.date<=period[1],\n",
        "        self.R.goods.like(f'{goods}%')\n",
        "        )\n",
        "    return round(self._check_result(res.first()[0]), 2)\n",
        "\n",
        "  def revenue_presents(self, period: Period) -> float:\n",
        "    goods = 'ПП '\n",
        "    res = self.session.query(\n",
        "    func.sum(self.R.sum)\n",
        "    ).filter(\n",
        "        self.R.date>=period[0], \n",
        "        self.R.date<=period[1],\n",
        "        self.R.goods.like(f'{goods}%')\n",
        "        )\n",
        "    return round(self._check_result(res.first()[0]), 2)\n",
        "\n",
        "  def quantity_presents(self, period: Period) -> float:\n",
        "    goods = 'ПП '\n",
        "    res = self.session.query(\n",
        "    func.count(self.R.goods)\n",
        "    ).filter(\n",
        "        self.R.date>=period[0], \n",
        "        self.R.date<=period[1],\n",
        "        self.R.goods.like(f'{goods}%')\n",
        "        )\n",
        "    return self._check_result(res.first()[0])\n",
        "\n",
        "  def revenue_bouquet(self, period: Period) -> float:\n",
        "    goods = 'Б '\n",
        "    res = self.session.query(\n",
        "    func.sum(self.R.sum)\n",
        "    ).filter(\n",
        "        self.R.date>=period[0], \n",
        "        self.R.date<=period[1],\n",
        "        self.R.goods.like(f'{goods}%')\n",
        "        )\n",
        "    return round(self._check_result(res.first()[0]), 2)\n",
        "\n",
        "  def quantity_bouquet(self, period: Period) -> float:\n",
        "    goods = 'Б '\n",
        "    res = self.session.query(\n",
        "    func.count(self.R.goods)\n",
        "    ).filter(\n",
        "        self.R.date>=period[0], \n",
        "        self.R.date<=period[1],\n",
        "        self.R.goods.like(f'{goods}%')\n",
        "        )\n",
        "    return self._check_result(res.first()[0])\n",
        "\n",
        "  def revenue_basket(self, period: Period) -> float:\n",
        "    goods = 'К '\n",
        "    res = self.session.query(\n",
        "    func.sum(self.R.sum)\n",
        "    ).filter(\n",
        "        self.R.date>=period[0], \n",
        "        self.R.date<=period[1],\n",
        "        self.R.goods.like(f'{goods}%')\n",
        "        )\n",
        "    return round(self._check_result(res.first()[0]), 2)\n",
        "\n",
        "  def quantity_basket(self, period: Period) -> float:\n",
        "    goods = 'К '\n",
        "    res = self.session.query(\n",
        "    func.count(self.R.goods)\n",
        "    ).filter(\n",
        "        self.R.date>=period[0], \n",
        "        self.R.date<=period[1],\n",
        "        self.R.goods.like(f'{goods}%')\n",
        "        )\n",
        "    return self._check_result(res.first()[0])\n",
        "\n",
        "  def revenue_packing(self, period: Period) -> float:\n",
        "    goods = 'упаковка'\n",
        "    res = self.session.query(\n",
        "    func.sum(self.R.sum)\n",
        "    ).filter(\n",
        "        self.R.date>=period[0], \n",
        "        self.R.date<=period[1],\n",
        "        self.R.goods.like(f'%{goods}%')\n",
        "        )\n",
        "    return round(self._check_result(res.first()[0]), 2)\n",
        "\n",
        "  def quantity_packing(self, period: Period) -> float:\n",
        "    goods = 'упаковка'\n",
        "    res = self.session.query(\n",
        "    func.count(self.R.goods)\n",
        "    ).filter(\n",
        "        self.R.date>=period[0], \n",
        "        self.R.date<=period[1],\n",
        "        self.R.goods.like(f'%{goods}%')\n",
        "        )\n",
        "    return self._check_result(res.first()[0])\n",
        "\n",
        "  def pockets_coffee(self, period: Period) -> float:\n",
        "    goods = 'КР '\n",
        "    res = self.session.query(\n",
        "    func.count(self.R.sale_id)\n",
        "    ).filter(\n",
        "        self.R.date>=period[0], \n",
        "        self.R.date<=period[1],\n",
        "        self.R.goods.like(f'{goods}%')\n",
        "        )\n",
        "    return self._check_result(res.first()[0])\n",
        "\n",
        "  def pockets_tea(self, period: Period) -> float:\n",
        "    goods = 'ЧР '\n",
        "    res = self.session.query(\n",
        "    func.count(self.R.sale_id)\n",
        "    ).filter(\n",
        "        self.R.date>=period[0], \n",
        "        self.R.date<=period[1],\n",
        "        self.R.goods.like(f'{goods}%')\n",
        "        )\n",
        "    return self._check_result(res.first()[0])"
      ],
      "metadata": {
        "id": "iqEm5PLMYEMV"
      },
      "execution_count": null,
      "outputs": []
    },
    {
      "cell_type": "code",
      "source": [
        "class DataBaseType(Enum):\n",
        "  mysql = 'mysql'\n",
        "  sqlite = 'sqlite'"
      ],
      "metadata": {
        "id": "jaOkieFTG0Bl"
      },
      "execution_count": null,
      "outputs": []
    },
    {
      "cell_type": "code",
      "source": [
        "class DataConn:\n",
        "  def __init__(self, user: str='', password: str='', host: str='localhost', \n",
        "               port: int=3306, db_name: str='vlazer', charset: str='utf8',\n",
        "               db_type: str='mysql'):\n",
        "    self.user = user\n",
        "    self.password = password\n",
        "    self.host = host\n",
        "    self.port = port\n",
        "    self.db_name = db_name\n",
        "    self.charset = charset\n",
        "    self.db_type = db_type\n",
        "    \n",
        "  def __enter__(self):\n",
        "    self.engine = create_engine(f'{self.db_type}://{self.user}:{urlquote(self.password)}@{self.host}:{self.port}/{self.db_name}?charset={self.charset}', echo=False)\n",
        "    Session = sessionmaker(bind = self.engine)\n",
        "    self.session = Session()\n",
        "    return self.engine, self.session\n",
        "    \n",
        "  def __exit__(self, exc_type, exc_val, exc_tb):\n",
        "    self.session.close()\n",
        "    if exc_val:\n",
        "      raise "
      ],
      "metadata": {
        "id": "ZwphMQ63TfuC"
      },
      "execution_count": null,
      "outputs": []
    },
    {
      "cell_type": "code",
      "source": [
        "with DataConn(DB_USER, DB_PASSWORD, DB_HOST, DB_PORT, DB_NAME) as data_connection:\n",
        "  kpi = KPI(data_connection)\n",
        "  period = Period()\n",
        "  print(kpi.revenue(period.current_month), kpi.checks(period.current_month))"
      ],
      "metadata": {
        "colab": {
          "base_uri": "https://localhost:8080/"
        },
        "id": "nxY4vGmW9Mc5",
        "outputId": "01b5c5a9-c4c1-44bc-f10d-06f845542a77"
      },
      "execution_count": null,
      "outputs": [
        {
          "output_type": "stream",
          "name": "stdout",
          "text": [
            "90762.82 126\n"
          ]
        }
      ]
    },
    {
      "cell_type": "markdown",
      "source": [
        "# Новый раздел"
      ],
      "metadata": {
        "id": "UgBsAdUjKjun"
      }
    },
    {
      "cell_type": "code",
      "source": [
        "DB_TYPE"
      ],
      "metadata": {
        "colab": {
          "base_uri": "https://localhost:8080/",
          "height": 35
        },
        "id": "_Ds0UH5ZBXF2",
        "outputId": "92e0c084-8c0b-41ae-85ad-2c0441e5cac4"
      },
      "execution_count": null,
      "outputs": [
        {
          "output_type": "execute_result",
          "data": {
            "text/plain": [
              "'mysql'"
            ],
            "application/vnd.google.colaboratory.intrinsic+json": {
              "type": "string"
            }
          },
          "metadata": {},
          "execution_count": 9
        }
      ]
    },
    {
      "cell_type": "code",
      "source": [
        ""
      ],
      "metadata": {
        "id": "idxTU79oNTvb"
      },
      "execution_count": null,
      "outputs": []
    }
  ]
}